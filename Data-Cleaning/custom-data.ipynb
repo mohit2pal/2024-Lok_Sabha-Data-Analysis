{
 "cells": [
  {
   "cell_type": "code",
   "execution_count": 9,
   "metadata": {},
   "outputs": [],
   "source": [
    "import pandas as pd\n",
    "\n",
    "# Read the winner.csv file\n",
    "df = pd.read_csv('winner.csv')\n",
    "\n",
    "# Group the data by state and party, and count the number of constituencies won by each party in each state\n",
    "state_party_counts = df.groupby(['State', 'Party']).size().reset_index(name='count')\n",
    "\n",
    "# Find the party that won the most constituencies in each state\n",
    "state_most_wins = state_party_counts.groupby('State')['count'].idxmax()\n",
    "most_wins_df = state_party_counts.loc[state_most_wins]\n",
    "\n",
    "# Create a new dataset with the state and the parties that won the most constituencies in each state\n",
    "new_dataset = most_wins_df[['State', 'Party']]\n",
    "\n",
    "# Save the new dataset to a file named \"state-wise-win.csv\"\n",
    "new_dataset.to_csv('state-wise-win.csv', index=False, header=True)\n"
   ]
  },
  {
   "cell_type": "code",
   "execution_count": 1,
   "metadata": {},
   "outputs": [
    {
     "name": "stdout",
     "output_type": "stream",
     "text": [
      "The data has been saved to state_nota_totals.csv\n"
     ]
    }
   ],
   "source": [
    "import pandas as pd\n",
    "\n",
    "# Load the dataset\n",
    "file_path = 'unified_dataset.csv'\n",
    "data = pd.read_csv(file_path)\n",
    "\n",
    "# Filter rows where the Candidate is 'NOTA'\n",
    "nota_data = data[data['Candidate'].str.upper() == 'NOTA']\n",
    "\n",
    "# Group by State and calculate the total NOTA votes for each state\n",
    "nota_totals = nota_data.groupby('State')['Total Votes'].sum().reset_index()\n",
    "nota_totals.rename(columns={'Total Votes': 'Total NOTA Votes'}, inplace=True)\n",
    "\n",
    "# Calculate the total votes for each state\n",
    "total_votes = data.groupby('State')['Total Votes'].sum().reset_index()\n",
    "total_votes.rename(columns={'Total Votes': 'Total Votes in State'}, inplace=True)\n",
    "\n",
    "# Merge the two dataframes\n",
    "merged_data = pd.merge(nota_totals, total_votes, on='State')\n",
    "\n",
    "# Calculate the percentage of NOTA votes for each state\n",
    "merged_data['% NOTA Votes'] = (merged_data['Total NOTA Votes'] / merged_data['Total Votes in State']) * 100\n",
    "\n",
    "# Save the result to a new CSV file\n",
    "output_file_path = 'state_nota_totals.csv'\n",
    "merged_data.to_csv(output_file_path, index=False)\n",
    "\n",
    "print(f'The data has been saved to {output_file_path}')\n"
   ]
  }
 ],
 "metadata": {
  "kernelspec": {
   "display_name": "Data-Cleaning",
   "language": "python",
   "name": "python3"
  },
  "language_info": {
   "codemirror_mode": {
    "name": "ipython",
    "version": 3
   },
   "file_extension": ".py",
   "mimetype": "text/x-python",
   "name": "python",
   "nbconvert_exporter": "python",
   "pygments_lexer": "ipython3",
   "version": "3.11.9"
  }
 },
 "nbformat": 4,
 "nbformat_minor": 2
}

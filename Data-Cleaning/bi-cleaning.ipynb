{
 "cells": [
  {
   "cell_type": "code",
   "execution_count": 1,
   "metadata": {},
   "outputs": [
    {
     "name": "stdout",
     "output_type": "stream",
     "text": [
      "Requirement already satisfied: pandas in c:\\github\\kalvium-project\\data-cleaning\\lib\\site-packages (2.2.2)\n",
      "Requirement already satisfied: numpy>=1.23.2 in c:\\github\\kalvium-project\\data-cleaning\\lib\\site-packages (from pandas) (2.0.0)\n",
      "Requirement already satisfied: python-dateutil>=2.8.2 in c:\\github\\kalvium-project\\data-cleaning\\lib\\site-packages (from pandas) (2.9.0.post0)\n",
      "Requirement already satisfied: pytz>=2020.1 in c:\\github\\kalvium-project\\data-cleaning\\lib\\site-packages (from pandas) (2024.1)\n",
      "Requirement already satisfied: tzdata>=2022.7 in c:\\github\\kalvium-project\\data-cleaning\\lib\\site-packages (from pandas) (2024.1)\n",
      "Requirement already satisfied: six>=1.5 in c:\\github\\kalvium-project\\data-cleaning\\lib\\site-packages (from python-dateutil>=2.8.2->pandas) (1.16.0)\n"
     ]
    },
    {
     "name": "stderr",
     "output_type": "stream",
     "text": [
      "\n",
      "[notice] A new release of pip is available: 24.0 -> 24.1.1\n",
      "[notice] To update, run: python.exe -m pip install --upgrade pip\n"
     ]
    }
   ],
   "source": [
    "!pip install pandas"
   ]
  },
  {
   "cell_type": "markdown",
   "metadata": {},
   "source": [
    "### Election Results Data Aggregation and Cleaning Script\n",
    "\n",
    "This Python script aggregates and cleans election results data from multiple CSV files stored in a hierarchical folder structure. It performs the following tasks:\n",
    "\n",
    "1. **Imports necessary libraries**: `os`, `pandas`, and `numpy`.\n",
    "2. **Defines the data folder path**: `data_folder` where the election results are stored.\n",
    "3. **Initializes an empty DataFrame**: `unified_dataset` to store the combined data.\n",
    "4. **Reads and concatenates all CSV files**:\n",
    "   - Iterates through each state folder in the `data_folder`.\n",
    "   - For each state folder, iterates through each CSV file.\n",
    "   - Reads each CSV file into a DataFrame.\n",
    "   - Adds columns for the state and constituency.\n",
    "   - Concatenates the DataFrame to the `unified_dataset`.\n",
    "5. **Cleans the dataset**:\n",
    "   - Drops the column `S.N.`.\n",
    "   - Removes rows where the `Candidate` column contains the string 'Total'.\n",
    "   - Replaces all fields containing '-' with `NaN` (null value).\n",
    "6. **Saves the cleaned dataset** to a single CSV file named `unified_dataset.csv`.\n",
    "\n",
    "This script is useful for consolidating and cleaning election results data from various states and constituencies into a single, manageable dataset.\n"
   ]
  },
  {
   "cell_type": "code",
   "execution_count": 2,
   "metadata": {},
   "outputs": [
    {
     "name": "stdout",
     "output_type": "stream",
     "text": [
      "Andaman & Nicobar Islands\n",
      "Andhra Pradesh\n",
      "Arunachal Pradesh\n",
      "Assam\n",
      "Bihar\n",
      "Chandigarh\n",
      "Chhattisgarh\n",
      "Dadra & Nagar Haveli and Daman & Diu\n",
      "Goa\n",
      "Gujarat\n",
      "Haryana\n",
      "Himachal Pradesh\n",
      "Jammu and Kashmir\n",
      "Jharkhand\n",
      "Karnataka\n",
      "Kerala\n",
      "Ladakh\n",
      "Lakshadweep\n",
      "Madhya Pradesh\n",
      "Maharashtra\n",
      "Manipur\n",
      "Meghalaya\n",
      "Mizoram\n",
      "Nagaland\n",
      "NCT OF Delhi\n",
      "Odisha\n",
      "Puducherry\n",
      "Punjab\n",
      "Rajasthan\n",
      "Sikkim\n",
      "Tamil Nadu\n",
      "Telangana\n",
      "Tripura\n",
      "Uttar Pradesh\n",
      "Uttarakhand\n",
      "West Bengal\n"
     ]
    },
    {
     "name": "stderr",
     "output_type": "stream",
     "text": [
      "C:\\Users\\mohit\\AppData\\Local\\Temp\\ipykernel_7784\\2290005920.py:28: FutureWarning: Downcasting behavior in `replace` is deprecated and will be removed in a future version. To retain the old behavior, explicitly call `result.infer_objects(copy=False)`. To opt-in to the future behavior, set `pd.set_option('future.no_silent_downcasting', True)`\n",
      "  unified_dataset.replace('-', np.nan, inplace=True)\n"
     ]
    }
   ],
   "source": [
    "import os\n",
    "import pandas as pd\n",
    "import numpy as np\n",
    "\n",
    "data_folder = \"Data/Election_Results\"\n",
    "unified_dataset = pd.DataFrame()\n",
    "\n",
    "# Read and concatenate all CSV files\n",
    "for state_folder in os.listdir(data_folder):\n",
    "    print(state_folder)\n",
    "    state_path = os.path.join(data_folder, state_folder)\n",
    "    if os.path.isdir(state_path):\n",
    "        for file_name in os.listdir(state_path):\n",
    "            file_path = os.path.join(state_path, file_name)\n",
    "            if os.path.isfile(file_path):\n",
    "                df = pd.read_csv(file_path)\n",
    "                df[\"State\"] = state_folder\n",
    "                # Extract constituency name by removing everything after the first hyphen\n",
    "                constituency_name = file_name.split(\" - \")[0]\n",
    "                df[\"Constituency\"] = constituency_name\n",
    "                unified_dataset = pd.concat([unified_dataset, df], ignore_index=True)\n",
    "\n",
    "# Clean the dataset\n",
    "unified_dataset = unified_dataset.drop(columns=['S.N.'])\n",
    "unified_dataset = unified_dataset[~unified_dataset['Candidate'].str.contains('Total')]\n",
    "\n",
    "# Replace all fields containing '-' with NaN (null value)\n",
    "unified_dataset.replace('-', np.nan, inplace=True)\n",
    "\n",
    "# Save the cleaned dataset to a single CSV file\n",
    "unified_dataset.to_csv(\"unified_dataset.csv\", index=False)\n"
   ]
  },
  {
   "cell_type": "markdown",
   "metadata": {},
   "source": [
    "### Election Winner Extraction Script\n",
    "\n",
    "This Python script processes the cleaned election results data to identify the winning candidate for each constituency and state. It performs the following tasks:\n",
    "\n",
    "1. **Groups the dataset**: \n",
    "   - Groups the `unified_dataset` by `Constituency` and `State`.\n",
    "   - Applies a lambda function to each group to find the row with the maximum `Total Votes`. \n",
    "   - Uses `fillna(-1)` to handle any missing values in the `Total Votes` column.\n",
    "   - Resets the index of the resulting DataFrame.\n",
    "\n",
    "2. **Selects relevant columns**:\n",
    "   - Extracts the columns `Candidate`, `Party`, `Total Votes`, `Postal Votes`, `EVM Votes`, `% of Votes`, `State`, and `Constituency` from the grouped DataFrame to create `winner_dataset`.\n",
    "\n",
    "3. **Saves the winner dataset**:\n",
    "   - Writes the `winner_dataset` to a CSV file named `winner.csv` without including the index.\n",
    "\n",
    "This script is useful for identifying and saving the winning candidates for each constituency and state from the aggregated election results data.\n"
   ]
  },
  {
   "cell_type": "code",
   "execution_count": 3,
   "metadata": {},
   "outputs": [
    {
     "name": "stderr",
     "output_type": "stream",
     "text": [
      "C:\\Users\\mohit\\AppData\\Local\\Temp\\ipykernel_7784\\346996621.py:1: DeprecationWarning: DataFrameGroupBy.apply operated on the grouping columns. This behavior is deprecated, and in a future version of pandas the grouping columns will be excluded from the operation. Either pass `include_groups=False` to exclude the groupings or explicitly select the grouping columns after groupby to silence this warning.\n",
      "  winner_dataset = unified_dataset.groupby(['Constituency', 'State']).apply(lambda x: x.loc[x['Total Votes'].fillna(-1).idxmax()]).reset_index(drop=True)\n"
     ]
    }
   ],
   "source": [
    "winner_dataset = unified_dataset.groupby(['Constituency', 'State']).apply(lambda x: x.loc[x['Total Votes'].fillna(-1).idxmax()]).reset_index(drop=True)\n",
    "winner_dataset = winner_dataset[['Candidate', 'Party', 'Total Votes', 'Postal Votes', 'EVM Votes', '% of Votes', 'State', 'Constituency']]\n",
    "winner_dataset.to_csv(\"winner.csv\", index=False)"
   ]
  },
  {
   "cell_type": "markdown",
   "metadata": {},
   "source": [
    "### Identifying Uncontested Candidates Script\n",
    "\n",
    "This Python script processes the cleaned election results data to identify constituencies where the `Total Votes` are missing (NaN), which can indicate uncontested candidates. It performs the following tasks:\n",
    "\n",
    "1. **Identifies missing `Total Votes`**:\n",
    "   - Filters the `unified_dataset` to find rows where the `Total Votes` column is NaN.\n",
    "   - Stores the resulting DataFrame in `nan_total_votes`.\n",
    "\n",
    "2. **Prints the DataFrame**:\n",
    "   - Prints the `nan_total_votes` DataFrame to display the constituencies and candidates with missing `Total Votes`.\n",
    "\n",
    "This script is useful for identifying constituencies with uncontested candidates, as missing `Total Votes` can indicate that no votes were cast due to the lack of opposition.\n",
    "\n",
    "```python\n",
    "# Identify rows with missing 'Total Votes'\n",
    "nan_total_votes = unified_dataset[unified_dataset['Total Votes'].isna()]\n",
    "\n",
    "# Print the DataFrame with missing 'Total Votes'\n",
    "print(nan_total_votes)\n"
   ]
  },
  {
   "cell_type": "code",
   "execution_count": 4,
   "metadata": {},
   "outputs": [
    {
     "name": "stdout",
     "output_type": "stream",
     "text": [
      "                                           Candidate                   Party  \\\n",
      "1857  MUKESHKUMAR CHANDRAKAANT DALAL ( Uncontested )  Bharatiya Janata Party   \n",
      "\n",
      "      EVM Votes Postal Votes  Total Votes  % of Votes    State Constituency  \n",
      "1857        NaN          NaN          NaN         NaN  Gujarat        Surat  \n"
     ]
    }
   ],
   "source": [
    "nan_total_votes = unified_dataset[unified_dataset['Total Votes'].isna()]\n",
    "print(nan_total_votes)"
   ]
  },
  {
   "cell_type": "markdown",
   "metadata": {},
   "source": [
    "### Verification Script for winner.csv"
   ]
  },
  {
   "cell_type": "code",
   "execution_count": 5,
   "metadata": {},
   "outputs": [],
   "source": [
    "import os\n",
    "import pandas as pd\n",
    "\n",
    "data_folder = \"Data/Election_Results\"\n",
    "winner_dataset = pd.read_csv(\"winner.csv\")\n",
    "\n",
    "for state_folder in os.listdir(data_folder):\n",
    "    state_path = os.path.join(data_folder, state_folder)\n",
    "    if os.path.isdir(state_path):\n",
    "        if state_folder not in winner_dataset['State'].unique():\n",
    "            print(f\"State {state_folder} is not present in the winner.csv\")\n",
    "        \n",
    "        for file_name in os.listdir(state_path):\n",
    "            file_path = os.path.join(state_path, file_name)\n",
    "            if os.path.isfile(file_path):\n",
    "                df = pd.read_csv(file_path)\n",
    "                constituency_name = file_name.split(\" - \")[0]\n",
    "                if constituency_name not in winner_dataset[winner_dataset['State'] == state_folder]['Constituency'].unique():\n",
    "                    print(f\"Constituency {constituency_name} in state {state_folder} is not present in the winner.csv\")\n"
   ]
  },
  {
   "cell_type": "markdown",
   "metadata": {},
   "source": [
    "### Verification script for unified.csv\n"
   ]
  },
  {
   "cell_type": "code",
   "execution_count": 6,
   "metadata": {},
   "outputs": [],
   "source": [
    "import os\n",
    "import pandas as pd\n",
    "\n",
    "data_folder = \"Data/Election_Results\"\n",
    "unified_dataset = pd.read_csv(\"unified_dataset.csv\")\n",
    "\n",
    "for state_folder in os.listdir(data_folder):\n",
    "    state_path = os.path.join(data_folder, state_folder)\n",
    "    if os.path.isdir(state_path):\n",
    "        if state_folder not in unified_dataset['State'].unique():\n",
    "            print(f\"State {state_folder} is not present in the unified_dataset.csv\")\n",
    "        \n",
    "        for file_name in os.listdir(state_path):\n",
    "            file_path = os.path.join(state_path, file_name)\n",
    "            if os.path.isfile(file_path):\n",
    "                constituency_name = file_name.split(\" - \")[0]\n",
    "                if constituency_name not in unified_dataset[unified_dataset['State'] == state_folder]['Constituency'].unique():\n",
    "                    print(f\"Constituency {constituency_name} in state {state_folder} is not present in the unified_dataset.csv\")"
   ]
  }
 ],
 "metadata": {
  "kernelspec": {
   "display_name": "Data-Cleaning",
   "language": "python",
   "name": "python3"
  },
  "language_info": {
   "codemirror_mode": {
    "name": "ipython",
    "version": 3
   },
   "file_extension": ".py",
   "mimetype": "text/x-python",
   "name": "python",
   "nbconvert_exporter": "python",
   "pygments_lexer": "ipython3",
   "version": "3.11.9"
  }
 },
 "nbformat": 4,
 "nbformat_minor": 2
}
